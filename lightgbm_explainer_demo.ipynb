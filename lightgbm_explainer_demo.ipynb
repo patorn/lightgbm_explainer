{
 "cells": [
  {
   "cell_type": "markdown",
   "metadata": {},
   "source": [
    "# first train a model"
   ]
  },
  {
   "cell_type": "code",
   "execution_count": 1,
   "metadata": {
    "ExecuteTime": {
     "end_time": "2018-08-31T08:27:42.952032Z",
     "start_time": "2018-08-31T08:27:42.078077Z"
    }
   },
   "outputs": [],
   "source": [
    "from sklearn.datasets import load_svmlight_file\n",
    "import numpy as np\n",
    "import sys\n",
    "import lightgbm as lgb"
   ]
  },
  {
   "cell_type": "code",
   "execution_count": 11,
   "metadata": {
    "ExecuteTime": {
     "end_time": "2018-08-31T08:28:07.952545Z",
     "start_time": "2018-08-31T08:28:07.866935Z"
    }
   },
   "outputs": [],
   "source": [
    "svmtrain = load_svmlight_file('./train.libsvm')\n",
    "svmtest = load_svmlight_file('./test.libsvm')\n",
    "X_train = svmtrain[0].toarray()\n",
    "y_train = svmtrain[1]\n",
    "X_test = svmtest[0].toarray()\n",
    "y_test = svmtest[1]\n",
    "lmda = 1.0\n",
    "eta = 0.1"
   ]
  },
  {
   "cell_type": "code",
   "execution_count": 3,
   "metadata": {
    "ExecuteTime": {
     "end_time": "2018-08-31T08:27:44.044192Z",
     "start_time": "2018-08-31T08:27:44.040939Z"
    }
   },
   "outputs": [],
   "source": [
    "evals_result = {}\n",
    "params = {\n",
    "    \"objective\":\"binary\", \n",
    "    'metric': 'auc', \n",
    "    \"lambda_l2\": lmda,\n",
    "    'learning_rate': 0.1\n",
    "}"
   ]
  },
  {
   "cell_type": "code",
   "execution_count": 4,
   "metadata": {
    "ExecuteTime": {
     "end_time": "2018-08-31T08:27:45.558630Z",
     "start_time": "2018-08-31T08:27:44.342353Z"
    }
   },
   "outputs": [
    {
     "name": "stdout",
     "output_type": "stream",
     "text": [
      "[1]\ttraining's auc: 0.870869\tvalid_1's auc: 0.874987\n",
      "Training until validation scores don't improve for 10 rounds.\n",
      "[2]\ttraining's auc: 0.884095\tvalid_1's auc: 0.882721\n",
      "[3]\ttraining's auc: 0.888434\tvalid_1's auc: 0.88921\n",
      "[4]\ttraining's auc: 0.896787\tvalid_1's auc: 0.893384\n",
      "[5]\ttraining's auc: 0.899858\tvalid_1's auc: 0.894658\n",
      "[6]\ttraining's auc: 0.90465\tvalid_1's auc: 0.897728\n",
      "[7]\ttraining's auc: 0.906755\tvalid_1's auc: 0.897818\n",
      "[8]\ttraining's auc: 0.908352\tvalid_1's auc: 0.900545\n",
      "[9]\ttraining's auc: 0.9095\tvalid_1's auc: 0.899733\n",
      "[10]\ttraining's auc: 0.911111\tvalid_1's auc: 0.900505\n",
      "[11]\ttraining's auc: 0.912552\tvalid_1's auc: 0.900652\n",
      "[12]\ttraining's auc: 0.914517\tvalid_1's auc: 0.900717\n",
      "[13]\ttraining's auc: 0.915868\tvalid_1's auc: 0.902026\n",
      "[14]\ttraining's auc: 0.917167\tvalid_1's auc: 0.902692\n",
      "[15]\ttraining's auc: 0.918287\tvalid_1's auc: 0.903298\n",
      "[16]\ttraining's auc: 0.919614\tvalid_1's auc: 0.904895\n",
      "[17]\ttraining's auc: 0.920872\tvalid_1's auc: 0.906101\n",
      "[18]\ttraining's auc: 0.92208\tvalid_1's auc: 0.906915\n",
      "[19]\ttraining's auc: 0.922857\tvalid_1's auc: 0.907546\n",
      "[20]\ttraining's auc: 0.923567\tvalid_1's auc: 0.908244\n",
      "[21]\ttraining's auc: 0.924624\tvalid_1's auc: 0.909477\n",
      "[22]\ttraining's auc: 0.925486\tvalid_1's auc: 0.909799\n",
      "[23]\ttraining's auc: 0.92636\tvalid_1's auc: 0.910298\n",
      "[24]\ttraining's auc: 0.927203\tvalid_1's auc: 0.911103\n",
      "[25]\ttraining's auc: 0.927962\tvalid_1's auc: 0.912171\n",
      "[26]\ttraining's auc: 0.92879\tvalid_1's auc: 0.912724\n",
      "[27]\ttraining's auc: 0.929698\tvalid_1's auc: 0.913026\n",
      "[28]\ttraining's auc: 0.930467\tvalid_1's auc: 0.913699\n",
      "[29]\ttraining's auc: 0.931156\tvalid_1's auc: 0.914059\n",
      "[30]\ttraining's auc: 0.932075\tvalid_1's auc: 0.91463\n",
      "[31]\ttraining's auc: 0.932893\tvalid_1's auc: 0.915169\n",
      "[32]\ttraining's auc: 0.933505\tvalid_1's auc: 0.915343\n",
      "[33]\ttraining's auc: 0.9341\tvalid_1's auc: 0.915541\n",
      "[34]\ttraining's auc: 0.934737\tvalid_1's auc: 0.915687\n",
      "[35]\ttraining's auc: 0.935127\tvalid_1's auc: 0.91569\n",
      "[36]\ttraining's auc: 0.935765\tvalid_1's auc: 0.916014\n",
      "[37]\ttraining's auc: 0.936373\tvalid_1's auc: 0.916142\n",
      "[38]\ttraining's auc: 0.936957\tvalid_1's auc: 0.916664\n",
      "[39]\ttraining's auc: 0.937408\tvalid_1's auc: 0.916803\n",
      "[40]\ttraining's auc: 0.937862\tvalid_1's auc: 0.91726\n",
      "[41]\ttraining's auc: 0.93845\tvalid_1's auc: 0.91789\n",
      "[42]\ttraining's auc: 0.938883\tvalid_1's auc: 0.918319\n",
      "[43]\ttraining's auc: 0.939392\tvalid_1's auc: 0.918549\n",
      "[44]\ttraining's auc: 0.939729\tvalid_1's auc: 0.918541\n",
      "[45]\ttraining's auc: 0.940145\tvalid_1's auc: 0.918788\n",
      "[46]\ttraining's auc: 0.940605\tvalid_1's auc: 0.918985\n",
      "[47]\ttraining's auc: 0.940935\tvalid_1's auc: 0.919061\n",
      "[48]\ttraining's auc: 0.941428\tvalid_1's auc: 0.919137\n",
      "[49]\ttraining's auc: 0.941807\tvalid_1's auc: 0.919444\n",
      "[50]\ttraining's auc: 0.942159\tvalid_1's auc: 0.919533\n",
      "[51]\ttraining's auc: 0.942536\tvalid_1's auc: 0.919455\n",
      "[52]\ttraining's auc: 0.942803\tvalid_1's auc: 0.919339\n",
      "[53]\ttraining's auc: 0.943339\tvalid_1's auc: 0.919562\n",
      "[54]\ttraining's auc: 0.943793\tvalid_1's auc: 0.919688\n",
      "[55]\ttraining's auc: 0.944086\tvalid_1's auc: 0.919804\n",
      "[56]\ttraining's auc: 0.944392\tvalid_1's auc: 0.919878\n",
      "[57]\ttraining's auc: 0.944667\tvalid_1's auc: 0.919768\n",
      "[58]\ttraining's auc: 0.94514\tvalid_1's auc: 0.919971\n",
      "[59]\ttraining's auc: 0.945564\tvalid_1's auc: 0.920211\n",
      "[60]\ttraining's auc: 0.94598\tvalid_1's auc: 0.92025\n",
      "[61]\ttraining's auc: 0.946317\tvalid_1's auc: 0.920235\n",
      "[62]\ttraining's auc: 0.946624\tvalid_1's auc: 0.920194\n",
      "[63]\ttraining's auc: 0.947004\tvalid_1's auc: 0.920268\n",
      "[64]\ttraining's auc: 0.947251\tvalid_1's auc: 0.920293\n",
      "[65]\ttraining's auc: 0.947486\tvalid_1's auc: 0.92034\n",
      "[66]\ttraining's auc: 0.947826\tvalid_1's auc: 0.92024\n",
      "[67]\ttraining's auc: 0.948318\tvalid_1's auc: 0.92039\n",
      "[68]\ttraining's auc: 0.948714\tvalid_1's auc: 0.920581\n",
      "[69]\ttraining's auc: 0.948977\tvalid_1's auc: 0.920816\n",
      "[70]\ttraining's auc: 0.949251\tvalid_1's auc: 0.920812\n",
      "[71]\ttraining's auc: 0.949547\tvalid_1's auc: 0.920914\n",
      "[72]\ttraining's auc: 0.949826\tvalid_1's auc: 0.921128\n",
      "[73]\ttraining's auc: 0.950067\tvalid_1's auc: 0.921178\n",
      "[74]\ttraining's auc: 0.950324\tvalid_1's auc: 0.921241\n",
      "[75]\ttraining's auc: 0.950565\tvalid_1's auc: 0.92131\n",
      "[76]\ttraining's auc: 0.950884\tvalid_1's auc: 0.921404\n",
      "[77]\ttraining's auc: 0.951191\tvalid_1's auc: 0.921443\n",
      "[78]\ttraining's auc: 0.951506\tvalid_1's auc: 0.921521\n",
      "[79]\ttraining's auc: 0.951728\tvalid_1's auc: 0.921486\n",
      "[80]\ttraining's auc: 0.95201\tvalid_1's auc: 0.921431\n",
      "[81]\ttraining's auc: 0.952343\tvalid_1's auc: 0.921428\n",
      "[82]\ttraining's auc: 0.952565\tvalid_1's auc: 0.921461\n",
      "[83]\ttraining's auc: 0.952877\tvalid_1's auc: 0.921454\n",
      "[84]\ttraining's auc: 0.953129\tvalid_1's auc: 0.92151\n",
      "[85]\ttraining's auc: 0.95331\tvalid_1's auc: 0.921548\n",
      "[86]\ttraining's auc: 0.953636\tvalid_1's auc: 0.921535\n",
      "[87]\ttraining's auc: 0.953949\tvalid_1's auc: 0.921477\n",
      "[88]\ttraining's auc: 0.954184\tvalid_1's auc: 0.921573\n",
      "[89]\ttraining's auc: 0.954561\tvalid_1's auc: 0.921612\n",
      "[90]\ttraining's auc: 0.954867\tvalid_1's auc: 0.921744\n",
      "[91]\ttraining's auc: 0.955156\tvalid_1's auc: 0.921646\n",
      "[92]\ttraining's auc: 0.955373\tvalid_1's auc: 0.921685\n",
      "[93]\ttraining's auc: 0.95563\tvalid_1's auc: 0.921809\n",
      "[94]\ttraining's auc: 0.955784\tvalid_1's auc: 0.921826\n",
      "[95]\ttraining's auc: 0.956194\tvalid_1's auc: 0.921654\n",
      "[96]\ttraining's auc: 0.956489\tvalid_1's auc: 0.921699\n",
      "[97]\ttraining's auc: 0.956727\tvalid_1's auc: 0.921872\n",
      "[98]\ttraining's auc: 0.957075\tvalid_1's auc: 0.921902\n",
      "[99]\ttraining's auc: 0.957299\tvalid_1's auc: 0.92182\n",
      "[100]\ttraining's auc: 0.957462\tvalid_1's auc: 0.921819\n",
      "[101]\ttraining's auc: 0.957652\tvalid_1's auc: 0.921759\n",
      "[102]\ttraining's auc: 0.957869\tvalid_1's auc: 0.921815\n",
      "[103]\ttraining's auc: 0.958096\tvalid_1's auc: 0.921743\n",
      "[104]\ttraining's auc: 0.958381\tvalid_1's auc: 0.921751\n",
      "[105]\ttraining's auc: 0.958663\tvalid_1's auc: 0.921528\n",
      "[106]\ttraining's auc: 0.958815\tvalid_1's auc: 0.921522\n",
      "[107]\ttraining's auc: 0.959058\tvalid_1's auc: 0.921628\n",
      "[108]\ttraining's auc: 0.959295\tvalid_1's auc: 0.921683\n",
      "Early stopping, best iteration is:\n",
      "[98]\ttraining's auc: 0.957075\tvalid_1's auc: 0.921902\n"
     ]
    }
   ],
   "source": [
    "lgb_train = lgb.Dataset(X_train, y_train)\n",
    "lgb_eval = lgb.Dataset(X_test, y_test, reference=lgb_train)\n",
    "\n",
    "clf = lgb.train(\n",
    "    params,\n",
    "    lgb_train,\n",
    "    evals_result=evals_result,\n",
    "    num_boost_round=200,\n",
    "    valid_sets=[lgb_train, lgb_eval],\n",
    "    early_stopping_rounds=10\n",
    ")"
   ]
  },
  {
   "cell_type": "code",
   "execution_count": 5,
   "metadata": {
    "ExecuteTime": {
     "end_time": "2018-08-31T08:27:45.615086Z",
     "start_time": "2018-08-31T08:27:45.561248Z"
    }
   },
   "outputs": [],
   "source": [
    "model_info = clf.dump_model()"
   ]
  },
  {
   "cell_type": "code",
   "execution_count": 6,
   "metadata": {
    "ExecuteTime": {
     "end_time": "2018-08-31T08:27:46.060477Z",
     "start_time": "2018-08-31T08:27:46.037242Z"
    }
   },
   "outputs": [
    {
     "data": {
      "text/plain": [
       "{'tree_index': 0,\n",
       " 'num_leaves': 31,\n",
       " 'num_cat': 0,\n",
       " 'shrinkage': 1,\n",
       " 'tree_structure': {'split_index': 0,\n",
       "  'split_feature': 0,\n",
       "  'split_gain': 1363.77001953125,\n",
       "  'threshold': 0.3755284360762356,\n",
       "  'decision_type': '<=',\n",
       "  'default_left': True,\n",
       "  'missing_type': 'None',\n",
       "  'internal_value': 0,\n",
       "  'internal_count': 12000,\n",
       "  'left_child': {'split_index': 1,\n",
       "   'split_feature': 3,\n",
       "   'split_gain': 247.8300018310547,\n",
       "   'threshold': 298.50000000000006,\n",
       "   'decision_type': '<=',\n",
       "   'default_left': True,\n",
       "   'missing_type': 'None',\n",
       "   'internal_value': 1.52427,\n",
       "   'internal_count': 2545,\n",
       "   'left_child': {'split_index': 8,\n",
       "    'split_feature': 1,\n",
       "    'split_gain': 128.54600524902344,\n",
       "    'threshold': 0.45144156991920453,\n",
       "    'decision_type': '<=',\n",
       "    'default_left': True,\n",
       "    'missing_type': 'None',\n",
       "    'internal_value': 1.02931,\n",
       "    'internal_count': 1760,\n",
       "    'left_child': {'split_index': 9,\n",
       "     'split_feature': 3,\n",
       "     'split_gain': 131.32000732421875,\n",
       "     'threshold': 244.50000000000003,\n",
       "     'decision_type': '<=',\n",
       "     'default_left': True,\n",
       "     'missing_type': 'None',\n",
       "     'internal_value': 1.6347800000000001,\n",
       "     'internal_count': 918,\n",
       "     'left_child': {'split_index': 11,\n",
       "      'split_feature': 4,\n",
       "      'split_gain': 120.98100280761719,\n",
       "      'threshold': 7.500000000000001,\n",
       "      'decision_type': '<=',\n",
       "      'default_left': True,\n",
       "      'missing_type': 'None',\n",
       "      'internal_value': 2.0691,\n",
       "      'internal_count': 739,\n",
       "      'left_child': {'split_index': 13,\n",
       "       'split_feature': 0,\n",
       "       'split_gain': 108.71099853515625,\n",
       "       'threshold': 0.19152200750960505,\n",
       "       'decision_type': '<=',\n",
       "       'default_left': True,\n",
       "       'missing_type': 'None',\n",
       "       'internal_value': 2.36547,\n",
       "       'internal_count': 673,\n",
       "       'left_child': {'leaf_index': 0,\n",
       "        'leaf_value': -1.252951315974315,\n",
       "        'leaf_count': 50},\n",
       "       'right_child': {'split_index': 20,\n",
       "        'split_feature': 2,\n",
       "        'split_gain': 54.31330108642578,\n",
       "        'threshold': 10.500000000000002,\n",
       "        'decision_type': '<=',\n",
       "        'default_left': True,\n",
       "        'missing_type': 'None',\n",
       "        'internal_value': 2.63169,\n",
       "        'internal_count': 623,\n",
       "        'left_child': {'leaf_index': 14,\n",
       "         'leaf_value': -0.88759375061558,\n",
       "         'leaf_count': 599},\n",
       "        'right_child': {'leaf_index': 21,\n",
       "         'leaf_value': -1.2338977253981465,\n",
       "         'leaf_count': 24}}},\n",
       "      'right_child': {'leaf_index': 12,\n",
       "       'leaf_value': -1.2548237699333642,\n",
       "       'leaf_count': 66}},\n",
       "     'right_child': {'leaf_index': 10,\n",
       "      'leaf_value': -1.1812547539749607,\n",
       "      'leaf_count': 179}},\n",
       "    'right_child': {'split_index': 14,\n",
       "     'split_feature': 3,\n",
       "     'split_gain': 106.9209976196289,\n",
       "     'threshold': 271.50000000000006,\n",
       "     'decision_type': '<=',\n",
       "     'default_left': True,\n",
       "     'missing_type': 'None',\n",
       "     'internal_value': 0.362852,\n",
       "     'internal_count': 842,\n",
       "     'left_child': {'leaf_index': 9,\n",
       "      'leaf_value': -1.1812883677643222,\n",
       "      'leaf_count': 603},\n",
       "     'right_child': {'split_index': 24,\n",
       "      'split_feature': 0,\n",
       "      'split_gain': 32.567298889160156,\n",
       "      'threshold': 0.24338891454955253,\n",
       "      'decision_type': '<=',\n",
       "      'default_left': True,\n",
       "      'missing_type': 'None',\n",
       "      'internal_value': 1.67312,\n",
       "      'internal_count': 239,\n",
       "      'left_child': {'leaf_index': 15,\n",
       "       'leaf_value': -0.9080018828810907,\n",
       "       'leaf_count': 113},\n",
       "      'right_child': {'leaf_index': 25,\n",
       "       'leaf_value': -1.0847581850437131,\n",
       "       'leaf_count': 126}}}},\n",
       "   'right_child': {'split_index': 2,\n",
       "    'split_feature': 1,\n",
       "    'split_gain': 203.02200317382812,\n",
       "    'threshold': 0.4458618705269571,\n",
       "    'decision_type': '<=',\n",
       "    'default_left': True,\n",
       "    'missing_type': 'None',\n",
       "    'internal_value': 2.61906,\n",
       "    'internal_count': 785,\n",
       "    'left_child': {'leaf_index': 2,\n",
       "     'leaf_value': -1.2113172166945447,\n",
       "     'leaf_count': 101},\n",
       "    'right_child': {'split_index': 18,\n",
       "     'split_feature': 2,\n",
       "     'split_gain': 66.37770080566406,\n",
       "     'threshold': 7.500000000000001,\n",
       "     'decision_type': '<=',\n",
       "     'default_left': True,\n",
       "     'missing_type': 'None',\n",
       "     'internal_value': 3.07488,\n",
       "     'internal_count': 684,\n",
       "     'left_child': {'leaf_index': 3,\n",
       "      'leaf_value': -1.031450088915025,\n",
       "      'leaf_count': 112},\n",
       "     'right_child': {'split_index': 22,\n",
       "      'split_feature': 8,\n",
       "      'split_gain': 40.96910095214844,\n",
       "      'threshold': 1.5000000000000002,\n",
       "      'decision_type': '<=',\n",
       "      'default_left': True,\n",
       "      'missing_type': 'None',\n",
       "      'internal_value': 3.40027,\n",
       "      'internal_count': 572,\n",
       "      'left_child': {'leaf_index': 19,\n",
       "       'leaf_value': -1.1274607560128136,\n",
       "       'leaf_count': 25},\n",
       "      'right_child': {'leaf_index': 23,\n",
       "       'leaf_value': -0.8112339048096222,\n",
       "       'leaf_count': 547}}}}},\n",
       "  'right_child': {'split_index': 3,\n",
       "   'split_feature': 0,\n",
       "   'split_gain': 162.61900329589844,\n",
       "   'threshold': 0.5780935096740757,\n",
       "   'decision_type': '<=',\n",
       "   'default_left': True,\n",
       "   'missing_type': 'None',\n",
       "   'internal_value': -0.410937,\n",
       "   'internal_count': 9455,\n",
       "   'left_child': {'split_index': 4,\n",
       "    'split_feature': 3,\n",
       "    'split_gain': 242.52699279785156,\n",
       "    'threshold': 223.50000000000003,\n",
       "    'decision_type': '<=',\n",
       "    'default_left': True,\n",
       "    'missing_type': 'None',\n",
       "    'internal_value': -0.0323909,\n",
       "    'internal_count': 3768,\n",
       "    'left_child': {'split_index': 5,\n",
       "     'split_feature': 1,\n",
       "     'split_gain': 318.0559997558594,\n",
       "     'threshold': 0.5245606914038216,\n",
       "     'decision_type': '<=',\n",
       "     'default_left': True,\n",
       "     'missing_type': 'None',\n",
       "     'internal_value': 0.645913,\n",
       "     'internal_count': 1638,\n",
       "     'left_child': {'split_index': 12,\n",
       "      'split_feature': 2,\n",
       "      'split_gain': 111.16999816894531,\n",
       "      'threshold': 7.500000000000001,\n",
       "      'decision_type': '<=',\n",
       "      'default_left': True,\n",
       "      'missing_type': 'None',\n",
       "      'internal_value': 1.31344,\n",
       "      'internal_count': 1155,\n",
       "      'left_child': {'split_index': 21,\n",
       "       'split_feature': 4,\n",
       "       'split_gain': 49.72679901123047,\n",
       "       'threshold': 7.500000000000001,\n",
       "       'decision_type': '<=',\n",
       "       'default_left': True,\n",
       "       'missing_type': 'None',\n",
       "       'internal_value': 1.91476,\n",
       "       'internal_count': 684,\n",
       "       'left_child': {'split_index': 27,\n",
       "        'split_feature': 5,\n",
       "        'split_gain': 29.371299743652344,\n",
       "        'threshold': 1.0000000180025095e-35,\n",
       "        'decision_type': '<=',\n",
       "        'default_left': True,\n",
       "        'missing_type': 'None',\n",
       "        'internal_value': 2.05503,\n",
       "        'internal_count': 652,\n",
       "        'left_child': {'leaf_index': 1,\n",
       "         'leaf_value': -0.9431569931199061,\n",
       "         'leaf_count': 591},\n",
       "        'right_child': {'leaf_index': 28,\n",
       "         'leaf_value': -1.1190448804573068,\n",
       "         'leaf_count': 61}},\n",
       "       'right_child': {'leaf_index': 22,\n",
       "        'leaf_value': -1.2470976769320397,\n",
       "        'leaf_count': 32}},\n",
       "      'right_child': {'split_index': 25,\n",
       "       'split_feature': 2,\n",
       "       'split_gain': 30.349599838256836,\n",
       "       'threshold': 10.500000000000002,\n",
       "       'decision_type': '<=',\n",
       "       'default_left': True,\n",
       "       'missing_type': 'None',\n",
       "       'internal_value': 0.428126,\n",
       "       'internal_count': 471,\n",
       "       'left_child': {'leaf_index': 13,\n",
       "        'leaf_value': -1.0984160868084478,\n",
       "        'leaf_count': 409},\n",
       "       'right_child': {'leaf_index': 26,\n",
       "        'leaf_value': -1.2687378129059974,\n",
       "        'leaf_count': 62}}},\n",
       "     'right_child': {'leaf_index': 6,\n",
       "      'leaf_value': -1.2593109691444804,\n",
       "      'leaf_count': 483}},\n",
       "    'right_child': {'split_index': 28,\n",
       "     'split_feature': 4,\n",
       "     'split_gain': 27.86079978942871,\n",
       "     'threshold': 6.500000000000001,\n",
       "     'decision_type': '<=',\n",
       "     'default_left': True,\n",
       "     'missing_type': 'None',\n",
       "     'internal_value': -0.554337,\n",
       "     'internal_count': 2130,\n",
       "     'left_child': {'split_index': 29,\n",
       "      'split_feature': 3,\n",
       "      'split_gain': 28.558799743652344,\n",
       "      'threshold': 242.50000000000003,\n",
       "      'decision_type': '<=',\n",
       "      'default_left': True,\n",
       "      'missing_type': 'None',\n",
       "      'internal_value': -0.719553,\n",
       "      'internal_count': 1543,\n",
       "      'left_child': {'leaf_index': 5,\n",
       "       'leaf_value': -1.175760374042668,\n",
       "       'leaf_count': 336},\n",
       "      'right_child': {'leaf_index': 30,\n",
       "       'leaf_value': -1.2533451563553197,\n",
       "       'leaf_count': 1207}},\n",
       "     'right_child': {'leaf_index': 29,\n",
       "      'leaf_value': -1.176334041103588,\n",
       "      'leaf_count': 587}}},\n",
       "   'right_child': {'split_index': 6,\n",
       "    'split_feature': 4,\n",
       "    'split_gain': 241.3820037841797,\n",
       "    'threshold': 7.500000000000001,\n",
       "    'decision_type': '<=',\n",
       "    'default_left': True,\n",
       "    'missing_type': 'None',\n",
       "    'internal_value': -0.661474,\n",
       "    'internal_count': 5687,\n",
       "    'left_child': {'split_index': 15,\n",
       "     'split_feature': 4,\n",
       "     'split_gain': 71.2583999633789,\n",
       "     'threshold': 4.500000000000001,\n",
       "     'decision_type': '<=',\n",
       "     'default_left': True,\n",
       "     'missing_type': 'None',\n",
       "     'internal_value': -0.850444,\n",
       "     'internal_count': 4934,\n",
       "     'left_child': {'leaf_index': 4,\n",
       "      'leaf_value': -1.2848801823228195,\n",
       "      'leaf_count': 1930},\n",
       "     'right_child': {'split_index': 16,\n",
       "      'split_feature': 1,\n",
       "      'split_gain': 108.54100036621094,\n",
       "      'threshold': 0.5900800073027156,\n",
       "      'decision_type': '<=',\n",
       "      'default_left': True,\n",
       "      'missing_type': 'None',\n",
       "      'internal_value': -0.62224,\n",
       "      'internal_count': 3004,\n",
       "      'left_child': {'leaf_index': 16,\n",
       "       'leaf_value': -1.2681192035183182,\n",
       "       'leaf_count': 1615},\n",
       "      'right_child': {'split_index': 17,\n",
       "       'split_feature': 3,\n",
       "       'split_gain': 125.75299835205078,\n",
       "       'threshold': 265.50000000000006,\n",
       "       'decision_type': '<=',\n",
       "       'default_left': True,\n",
       "       'missing_type': 'None',\n",
       "       'internal_value': -0.139846,\n",
       "       'internal_count': 1389,\n",
       "       'left_child': {'leaf_index': 17,\n",
       "        'leaf_value': -1.246695451009612,\n",
       "        'leaf_count': 717},\n",
       "       'right_child': {'split_index': 23,\n",
       "        'split_feature': 5,\n",
       "        'split_gain': 36.31399917602539,\n",
       "        'threshold': 1.0000000180025095e-35,\n",
       "        'decision_type': '<=',\n",
       "        'default_left': True,\n",
       "        'missing_type': 'None',\n",
       "        'internal_value': 0.587693,\n",
       "        'internal_count': 672,\n",
       "        'left_child': {'leaf_index': 18,\n",
       "         'leaf_value': -1.0855784687567869,\n",
       "         'leaf_count': 591},\n",
       "        'right_child': {'leaf_index': 24,\n",
       "         'leaf_value': -1.24917524884378,\n",
       "         'leaf_count': 81}}}}},\n",
       "    'right_child': {'split_index': 7,\n",
       "     'split_feature': 1,\n",
       "     'split_gain': 202.59800720214844,\n",
       "     'threshold': 0.5869779018875562,\n",
       "     'decision_type': '<=',\n",
       "     'default_left': True,\n",
       "     'missing_type': 'None',\n",
       "     'internal_value': 0.573922,\n",
       "     'internal_count': 753,\n",
       "     'left_child': {'leaf_index': 7,\n",
       "      'leaf_value': -1.2455102909811626,\n",
       "      'leaf_count': 327},\n",
       "     'right_child': {'split_index': 10,\n",
       "      'split_feature': 3,\n",
       "      'split_gain': 125.44599914550781,\n",
       "      'threshold': 229.50000000000003,\n",
       "      'decision_type': '<=',\n",
       "      'default_left': True,\n",
       "      'missing_type': 'None',\n",
       "      'internal_value': 1.63235,\n",
       "      'internal_count': 426,\n",
       "      'left_child': {'leaf_index': 8,\n",
       "       'leaf_value': -1.2669716914514275,\n",
       "       'leaf_count': 77},\n",
       "      'right_child': {'split_index': 19,\n",
       "       'split_feature': 4,\n",
       "       'split_gain': 59.59230041503906,\n",
       "       'threshold': 10.500000000000002,\n",
       "       'decision_type': '<=',\n",
       "       'default_left': True,\n",
       "       'missing_type': 'None',\n",
       "       'internal_value': 2.22518,\n",
       "       'internal_count': 349,\n",
       "       'left_child': {'split_index': 26,\n",
       "        'split_feature': 5,\n",
       "        'split_gain': 30.31450080871582,\n",
       "        'threshold': 1.0000000180025095e-35,\n",
       "        'decision_type': '<=',\n",
       "        'default_left': True,\n",
       "        'missing_type': 'None',\n",
       "        'internal_value': 2.49354,\n",
       "        'internal_count': 324,\n",
       "        'left_child': {'leaf_index': 11,\n",
       "         'leaf_value': -0.8906198505030699,\n",
       "         'leaf_count': 289},\n",
       "        'right_child': {'leaf_index': 27,\n",
       "         'leaf_value': -1.1281614611398576,\n",
       "         'leaf_count': 35}},\n",
       "       'right_child': {'leaf_index': 20,\n",
       "        'leaf_value': -1.2720813474089754,\n",
       "        'leaf_count': 25}}}}}}}}"
      ]
     },
     "execution_count": 6,
     "metadata": {},
     "output_type": "execute_result"
    }
   ],
   "source": [
    "model_info['tree_info'][0]"
   ]
  },
  {
   "cell_type": "code",
   "execution_count": 14,
   "metadata": {
    "ExecuteTime": {
     "end_time": "2018-08-31T08:28:36.221384Z",
     "start_time": "2018-08-31T08:28:36.208961Z"
    },
    "scrolled": false
   },
   "outputs": [],
   "source": [
    "def get_id(d):\n",
    "    if 'split_index' in d:\n",
    "        return 'split_{}'.format(d['split_index'])\n",
    "    else:\n",
    "        return 'leaf_{}'.format(d['leaf_index'])\n",
    "    \n",
    "def extract_tree(tree_list, eta=1.0, lmda=1.0):\n",
    "    new_tree_list = []\n",
    "    for idx, tree in enumerate(tree_list):\n",
    "        nodes = tree['tree_structure'].copy()\n",
    "        node_list = {}\n",
    "        node_orders = []\n",
    "        node_list, node_orders = extract_node(nodes=nodes, node_list=node_list, node_orders=node_orders)\n",
    "        compute_node_logit(node_list, node_orders, eta=1.0, lmda=1.0)\n",
    "        compute_node_logit_delta(node_list, node_orders)\n",
    "        new_tree_list.append(node_list)\n",
    "    return new_tree_list\n",
    "\n",
    "def extract_node(nodes, parent=None, node_list={}, node_orders=[]):\n",
    "    node = {}\n",
    "    for k, v in nodes.items():\n",
    "        if isinstance(v, dict):\n",
    "            next\n",
    "        else:\n",
    "            node[k] = v\n",
    "    \n",
    "    node['is_leaf'] = not 'split_index' in node\n",
    "    node['id'] = get_id(node)\n",
    "    \n",
    "    node_orders.append(node['id'])\n",
    "    \n",
    "    if parent:\n",
    "        node['parent'] = parent['id']\n",
    "    else:\n",
    "        node['parent'] = None\n",
    "    \n",
    "    for k, v in nodes.items():\n",
    "        if isinstance(v, dict):\n",
    "            node[k] = get_id(v)\n",
    "            extract_node(v, node, node_list, node_orders)\n",
    "        else:\n",
    "            next\n",
    "            \n",
    "    if node['is_leaf']:\n",
    "        node['cover'] = node['leaf_count']\n",
    "        node_list[node['id']] = node\n",
    "    else:\n",
    "        node['cover'] = node['internal_count']\n",
    "        node_list[node['id']] = node\n",
    "    \n",
    "    return node_list, node_orders\n",
    "\n",
    "def compute_node_logit(node_list, node_orders, eta, lmda):\n",
    "    for k in reversed(node_orders):\n",
    "        node = node_list[k]\n",
    "        if node['is_leaf']:\n",
    "            G = -1.* node['leaf_value'] * (node['leaf_count'] + lmda) / eta\n",
    "        else:\n",
    "            G = node_list[node['left_child']]['grad'] + node_list[node['right_child']]['grad']\n",
    "        node_list[k]['grad'] = G\n",
    "        node_list[k]['logit'] = -1. * G / (node['cover'] + lmda) * eta\n",
    "    return node_list\n",
    "\n",
    "def compute_node_logit_delta(node_list, node_orders):\n",
    "    for k in reversed(node_orders):\n",
    "        node = node_list[k]\n",
    "        if node['parent'] is None:\n",
    "            node['logit_delta'] = node['logit'] - .0\n",
    "        else:\n",
    "            node['logit_delta'] = node['logit'] - node_list[node['parent']]['logit']\n",
    "    return node_list\n",
    "\n",
    "\n",
    "def logit_contribution(tree_lst, leaf_lst):\n",
    "    dist = {'intercept':0.0}\n",
    "    for i, leaf in enumerate(leaf_lst):\n",
    "        tree = tree_lst[i]\n",
    "        node = tree['leaf_{}'.format(leaf)]\n",
    "        parent_idx = node['parent']\n",
    "        # print(node, parent_idx)\n",
    "        while True:\n",
    "            if parent_idx is None:\n",
    "                dist['intercept'] += node['logit_delta'] \n",
    "                break\n",
    "            else:\n",
    "                parent = tree[parent_idx]\n",
    "                feat = parent['split_feature']\n",
    "                if not feat in dist:\n",
    "                    dist[feat] = 0.0\n",
    "                dist[feat] += node['logit_delta']\n",
    "                node = tree[parent_idx]\n",
    "                parent_idx = node['parent']\n",
    "    return dist"
   ]
  },
  {
   "cell_type": "code",
   "execution_count": 15,
   "metadata": {
    "ExecuteTime": {
     "end_time": "2018-08-31T08:28:36.709902Z",
     "start_time": "2018-08-31T08:28:36.703442Z"
    }
   },
   "outputs": [
    {
     "data": {
      "text/plain": [
       "({'split_index': 0,\n",
       "  'split_feature': 0,\n",
       "  'split_gain': 1363.77001953125,\n",
       "  'threshold': 0.3755284360762356,\n",
       "  'decision_type': '<=',\n",
       "  'default_left': True,\n",
       "  'missing_type': 'None',\n",
       "  'internal_value': 0,\n",
       "  'internal_count': 12000,\n",
       "  'is_leaf': False,\n",
       "  'id': 'split_0',\n",
       "  'parent': None,\n",
       "  'left_child': 'split_1',\n",
       "  'right_child': 'split_3',\n",
       "  'cover': 12000,\n",
       "  'grad': 14013.309731003661,\n",
       "  'logit': -1.1676785043749405,\n",
       "  'logit_delta': -1.1676785043749405},\n",
       " {'leaf_index': 1,\n",
       "  'leaf_value': -0.9431569931199061,\n",
       "  'leaf_count': 591,\n",
       "  'is_leaf': True,\n",
       "  'id': 'leaf_1',\n",
       "  'parent': 'split_27',\n",
       "  'cover': 591,\n",
       "  'grad': 558.3489399269844,\n",
       "  'logit': -0.9431569931199061,\n",
       "  'logit_delta': 0.018144266474791282})"
      ]
     },
     "execution_count": 15,
     "metadata": {},
     "output_type": "execute_result"
    }
   ],
   "source": [
    "node_list, node_orders = extract_node(model_info['tree_info'][0]['tree_structure'])\n",
    "compute_node_logit(node_list, node_orders, eta = 1.0, lmda = 1.0)\n",
    "compute_node_logit_delta(node_list, node_orders)\n",
    "node_list['split_0'], node_list['leaf_1']"
   ]
  },
  {
   "cell_type": "code",
   "execution_count": 16,
   "metadata": {
    "ExecuteTime": {
     "end_time": "2018-08-31T08:28:37.005608Z",
     "start_time": "2018-08-31T08:28:36.956443Z"
    },
    "scrolled": false
   },
   "outputs": [],
   "source": [
    "tree_list = extract_tree(model_info['tree_info'])"
   ]
  },
  {
   "cell_type": "code",
   "execution_count": 17,
   "metadata": {
    "ExecuteTime": {
     "end_time": "2018-08-31T08:28:37.387488Z",
     "start_time": "2018-08-31T08:28:37.382753Z"
    },
    "scrolled": false
   },
   "outputs": [
    {
     "data": {
      "text/plain": [
       "({'split_index': 0,\n",
       "  'split_feature': 0,\n",
       "  'split_gain': 1363.77001953125,\n",
       "  'threshold': 0.3755284360762356,\n",
       "  'decision_type': '<=',\n",
       "  'default_left': True,\n",
       "  'missing_type': 'None',\n",
       "  'internal_value': 0,\n",
       "  'internal_count': 12000,\n",
       "  'is_leaf': False,\n",
       "  'id': 'split_0',\n",
       "  'parent': None,\n",
       "  'left_child': 'split_1',\n",
       "  'right_child': 'split_3',\n",
       "  'cover': 12000,\n",
       "  'grad': 14013.309731003661,\n",
       "  'logit': -1.1676785043749405,\n",
       "  'logit_delta': -1.1676785043749405},\n",
       " {'leaf_index': 1,\n",
       "  'leaf_value': -0.9431569931199061,\n",
       "  'leaf_count': 591,\n",
       "  'is_leaf': True,\n",
       "  'id': 'leaf_1',\n",
       "  'parent': 'split_27',\n",
       "  'cover': 591,\n",
       "  'grad': 558.3489399269844,\n",
       "  'logit': -0.9431569931199061,\n",
       "  'logit_delta': 0.018144266474791282})"
      ]
     },
     "execution_count": 17,
     "metadata": {},
     "output_type": "execute_result"
    }
   ],
   "source": [
    "tree_list[0]['split_0'], tree_list[0]['leaf_1']"
   ]
  },
  {
   "cell_type": "markdown",
   "metadata": {},
   "source": [
    "# apply xgboost explainer to an observation"
   ]
  },
  {
   "cell_type": "code",
   "execution_count": 18,
   "metadata": {
    "ExecuteTime": {
     "end_time": "2018-08-31T08:28:38.235278Z",
     "start_time": "2018-08-31T08:28:38.232561Z"
    }
   },
   "outputs": [],
   "source": [
    "feature_map = [\"satisfaction_level\",\"last_evaluation\",\"number_project\",\n",
    "               \"average_montly_hours\",\"time_spend_company\",\"Work_accident\",\n",
    "               \"promotion_last_5years\",\"sales\",\"salary\"]"
   ]
  },
  {
   "cell_type": "code",
   "execution_count": 19,
   "metadata": {
    "ExecuteTime": {
     "end_time": "2018-08-31T08:28:38.981015Z",
     "start_time": "2018-08-31T08:28:38.922731Z"
    }
   },
   "outputs": [
    {
     "name": "stdout",
     "output_type": "stream",
     "text": [
      "[0.01698524]\n",
      "intercept: -2.035608687000937\n",
      "average_montly_hours: -0.4292335444671019\n",
      "time_spend_company: -0.20103822760868936\n",
      "satisfaction_level: -0.3105552973673581\n",
      "last_evaluation: -0.14266710689171888\n",
      "Work_accident: -0.9690280255280105\n",
      "salary: 0.19647478997113058\n",
      "number_project: -0.1981042759710663\n",
      "sales: 0.026027898688366205\n",
      "promotion_last_5years: 0.0054530289408788535\n"
     ]
    }
   ],
   "source": [
    "tree_list = extract_tree(model_info['tree_info'])\n",
    "sample = X_test[[802]]\n",
    "print(clf.predict(sample))\n",
    "\n",
    "leaf_lst = clf.predict(sample, pred_leaf=True)\n",
    "dist = logit_contribution(tree_list, leaf_lst[0])\n",
    "sum_logit = 0.0\n",
    "for k in dist:\n",
    "    sum_logit += dist[k]\n",
    "    fn = feature_map[k] if k != \"intercept\" else k\n",
    "    print(fn + \":\", dist[k])"
   ]
  },
  {
   "cell_type": "markdown",
   "metadata": {},
   "source": [
    "# plot impact of variable value on logit-odds"
   ]
  },
  {
   "cell_type": "code",
   "execution_count": 20,
   "metadata": {
    "ExecuteTime": {
     "end_time": "2018-08-31T08:28:40.998575Z",
     "start_time": "2018-08-31T08:28:39.969304Z"
    }
   },
   "outputs": [],
   "source": [
    "tree_list = extract_tree(model_info['tree_info'])\n",
    "leaf_lsts = clf.predict(X_test, pred_leaf=True)\n",
    "satisfaction_level_logit = []\n",
    "last_evaluation_logit = []\n",
    "for i,leaf_lst in enumerate(leaf_lsts):\n",
    "    dist = logit_contribution(tree_list, leaf_lst)\n",
    "    satisfaction_level_logit.append(dist[0])\n",
    "    last_evaluation_logit.append(dist[1])"
   ]
  },
  {
   "cell_type": "code",
   "execution_count": 21,
   "metadata": {
    "ExecuteTime": {
     "end_time": "2018-08-31T08:28:41.014674Z",
     "start_time": "2018-08-31T08:28:41.000532Z"
    }
   },
   "outputs": [],
   "source": [
    "fp = open('./test.libsvm')\n",
    "satisfaction_level_value = []\n",
    "last_evaluation_value = []\n",
    "for line in fp.readlines():\n",
    "    arr = line.split()\n",
    "    p = arr[1].split(':')\n",
    "    assert p[0]=='0'\n",
    "    satisfaction_level_value.append(float(p[1]))\n",
    "    p = arr[2].split(':')\n",
    "    assert p[0]=='1'\n",
    "    last_evaluation_value.append(float(p[1]))"
   ]
  },
  {
   "cell_type": "code",
   "execution_count": 25,
   "metadata": {
    "ExecuteTime": {
     "end_time": "2018-08-31T08:30:37.826832Z",
     "start_time": "2018-08-31T08:30:37.821490Z"
    }
   },
   "outputs": [],
   "source": [
    "%matplotlib inline\n",
    "import matplotlib.pyplot as plt\n",
    "import matplotlib.pylab as pylab\n",
    "pylab.rcParams['figure.figsize'] = (12, 8)"
   ]
  },
  {
   "cell_type": "code",
   "execution_count": 26,
   "metadata": {
    "ExecuteTime": {
     "end_time": "2018-08-31T08:30:38.390224Z",
     "start_time": "2018-08-31T08:30:38.030364Z"
    }
   },
   "outputs": [
    {
     "data": {
      "text/plain": [
       "<matplotlib.collections.PathCollection at 0x10c6a1d68>"
      ]
     },
     "execution_count": 26,
     "metadata": {},
     "output_type": "execute_result"
    },
    {
     "data": {
      "image/png": "[encoded data removed]",
      "text/plain": [
       "<Figure size 864x576 with 1 Axes>"
      ]
     },
     "metadata": {},
     "output_type": "display_data"
    }
   ],
   "source": [
    "plt.scatter(satisfaction_level_value, satisfaction_level_logit)"
   ]
  },
  {
   "cell_type": "code",
   "execution_count": 27,
   "metadata": {
    "ExecuteTime": {
     "end_time": "2018-08-31T08:30:39.342611Z",
     "start_time": "2018-08-31T08:30:38.994321Z"
    }
   },
   "outputs": [
    {
     "data": {
      "text/plain": [
       "<matplotlib.collections.PathCollection at 0x10ca87ac8>"
      ]
     },
     "execution_count": 27,
     "metadata": {},
     "output_type": "execute_result"
    },
    {
     "data": {
      "image/png": "[encoded data removed]",
      "text/plain": [
       "<Figure size 864x576 with 1 Axes>"
      ]
     },
     "metadata": {},
     "output_type": "display_data"
    }
   ],
   "source": [
    "plt.scatter(last_evaluation_value, last_evaluation_logit)"
   ]
  },
  {
   "cell_type": "code",
   "execution_count": null,
   "metadata": {
    "collapsed": true
   },
   "outputs": [],
   "source": []
  }
 ],
 "metadata": {
  "kernelspec": {
   "display_name": "Python 3",
   "language": "python",
   "name": "python3"
  },
  "language_info": {
   "codemirror_mode": {
    "name": "ipython",
    "version": 3
   },
   "file_extension": ".py",
   "mimetype": "text/x-python",
   "name": "python",
   "nbconvert_exporter": "python",
   "pygments_lexer": "ipython3",
   "version": "3.6.5"
  }
 },
 "nbformat": 4,
 "nbformat_minor": 2
}
